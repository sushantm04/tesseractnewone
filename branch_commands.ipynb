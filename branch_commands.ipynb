{
 "cells": [
  {
   "cell_type": "markdown",
   "id": "a3b74f7a-5923-4dce-82bf-cbec18c5d3d9",
   "metadata": {},
   "source": [
    "## .gitignore"
   ]
  },
  {
   "cell_type": "code",
   "execution_count": null,
   "id": "1993912f-8f35-48ee-9c77-9a7cfc180e2e",
   "metadata": {},
   "outputs": [],
   "source": [
    "Include this file in the folder to ignore the mentioned list of files in the .gitignore file"
   ]
  },
  {
   "cell_type": "markdown",
   "id": "2561baa1-daea-4907-890c-2694f33e98a4",
   "metadata": {},
   "source": [
    "### include some of the data here"
   ]
  }
 ],
 "metadata": {
  "kernelspec": {
   "display_name": "Python [conda env:base] *",
   "language": "python",
   "name": "conda-base-py"
  },
  "language_info": {
   "codemirror_mode": {
    "name": "ipython",
    "version": 3
   },
   "file_extension": ".py",
   "mimetype": "text/x-python",
   "name": "python",
   "nbconvert_exporter": "python",
   "pygments_lexer": "ipython3",
   "version": "3.12.7"
  }
 },
 "nbformat": 4,
 "nbformat_minor": 5
}
